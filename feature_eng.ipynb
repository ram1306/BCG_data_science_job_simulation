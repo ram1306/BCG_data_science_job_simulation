{
 "cells": [
  {
   "cell_type": "code",
   "execution_count": 2,
   "id": "aaf969e2-2dd7-4c28-9fd3-c0a71bea8734",
   "metadata": {},
   "outputs": [],
   "source": [
    "import pandas as pd"
   ]
  },
  {
   "cell_type": "code",
   "execution_count": 3,
   "id": "88e667f2-e1b2-4e5f-84f5-49bf348458c2",
   "metadata": {},
   "outputs": [],
   "source": [
    " df = pd.read_csv(\"C:/data sets/clean_data_after_eda.csv\")"
   ]
  },
  {
   "cell_type": "code",
   "execution_count": 4,
   "id": "1869d53d-599c-4446-b5c1-dcf6f366145c",
   "metadata": {},
   "outputs": [
    {
     "name": "stdout",
     "output_type": "stream",
     "text": [
      "Index(['id', 'channel_sales', 'cons_12m', 'cons_gas_12m', 'cons_last_month',\n",
      "       'date_activ', 'date_end', 'date_modif_prod', 'date_renewal',\n",
      "       'forecast_cons_12m', 'forecast_cons_year', 'forecast_discount_energy',\n",
      "       'forecast_meter_rent_12m', 'forecast_price_energy_off_peak',\n",
      "       'forecast_price_energy_peak', 'forecast_price_pow_off_peak', 'has_gas',\n",
      "       'imp_cons', 'margin_gross_pow_ele', 'margin_net_pow_ele', 'nb_prod_act',\n",
      "       'net_margin', 'num_years_antig', 'origin_up', 'pow_max',\n",
      "       'var_year_price_off_peak_var', 'var_year_price_peak_var',\n",
      "       'var_year_price_mid_peak_var', 'var_year_price_off_peak_fix',\n",
      "       'var_year_price_peak_fix', 'var_year_price_mid_peak_fix',\n",
      "       'var_year_price_off_peak', 'var_year_price_peak',\n",
      "       'var_year_price_mid_peak', 'var_6m_price_off_peak_var',\n",
      "       'var_6m_price_peak_var', 'var_6m_price_mid_peak_var',\n",
      "       'var_6m_price_off_peak_fix', 'var_6m_price_peak_fix',\n",
      "       'var_6m_price_mid_peak_fix', 'var_6m_price_off_peak',\n",
      "       'var_6m_price_peak', 'var_6m_price_mid_peak', 'churn'],\n",
      "      dtype='object')\n"
     ]
    }
   ],
   "source": [
    "print(df.columns)  \n"
   ]
  },
  {
   "cell_type": "code",
   "execution_count": 5,
   "id": "65b4501c-edb4-4851-8cfb-f4e46bca5066",
   "metadata": {},
   "outputs": [],
   "source": [
    "df = df.drop(columns=['unnecessary_column'], errors='ignore')\n"
   ]
  },
  {
   "cell_type": "code",
   "execution_count": 8,
   "id": "7d9a1382-65c5-4fc7-8422-0a68ad692256",
   "metadata": {},
   "outputs": [
    {
     "name": "stdout",
     "output_type": "stream",
     "text": [
      "<class 'pandas.core.frame.DataFrame'>\n",
      "RangeIndex: 14606 entries, 0 to 14605\n",
      "Data columns (total 44 columns):\n",
      " #   Column                          Non-Null Count  Dtype  \n",
      "---  ------                          --------------  -----  \n",
      " 0   id                              14606 non-null  object \n",
      " 1   channel_sales                   14606 non-null  object \n",
      " 2   cons_12m                        14606 non-null  int64  \n",
      " 3   cons_gas_12m                    14606 non-null  int64  \n",
      " 4   cons_last_month                 14606 non-null  int64  \n",
      " 5   date_activ                      14606 non-null  object \n",
      " 6   date_end                        14606 non-null  object \n",
      " 7   date_modif_prod                 14606 non-null  object \n",
      " 8   date_renewal                    14606 non-null  object \n",
      " 9   forecast_cons_12m               14606 non-null  float64\n",
      " 10  forecast_cons_year              14606 non-null  int64  \n",
      " 11  forecast_discount_energy        14606 non-null  float64\n",
      " 12  forecast_meter_rent_12m         14606 non-null  float64\n",
      " 13  forecast_price_energy_off_peak  14606 non-null  float64\n",
      " 14  forecast_price_energy_peak      14606 non-null  float64\n",
      " 15  forecast_price_pow_off_peak     14606 non-null  float64\n",
      " 16  has_gas                         14606 non-null  object \n",
      " 17  imp_cons                        14606 non-null  float64\n",
      " 18  margin_gross_pow_ele            14606 non-null  float64\n",
      " 19  margin_net_pow_ele              14606 non-null  float64\n",
      " 20  nb_prod_act                     14606 non-null  int64  \n",
      " 21  net_margin                      14606 non-null  float64\n",
      " 22  num_years_antig                 14606 non-null  int64  \n",
      " 23  origin_up                       14606 non-null  object \n",
      " 24  pow_max                         14606 non-null  float64\n",
      " 25  var_year_price_off_peak_var     14606 non-null  float64\n",
      " 26  var_year_price_peak_var         14606 non-null  float64\n",
      " 27  var_year_price_mid_peak_var     14606 non-null  float64\n",
      " 28  var_year_price_off_peak_fix     14606 non-null  float64\n",
      " 29  var_year_price_peak_fix         14606 non-null  float64\n",
      " 30  var_year_price_mid_peak_fix     14606 non-null  float64\n",
      " 31  var_year_price_off_peak         14606 non-null  float64\n",
      " 32  var_year_price_peak             14606 non-null  float64\n",
      " 33  var_year_price_mid_peak         14606 non-null  float64\n",
      " 34  var_6m_price_off_peak_var       14606 non-null  float64\n",
      " 35  var_6m_price_peak_var           14606 non-null  float64\n",
      " 36  var_6m_price_mid_peak_var       14606 non-null  float64\n",
      " 37  var_6m_price_off_peak_fix       14606 non-null  float64\n",
      " 38  var_6m_price_peak_fix           14606 non-null  float64\n",
      " 39  var_6m_price_mid_peak_fix       14606 non-null  float64\n",
      " 40  var_6m_price_off_peak           14606 non-null  float64\n",
      " 41  var_6m_price_peak               14606 non-null  float64\n",
      " 42  var_6m_price_mid_peak           14606 non-null  float64\n",
      " 43  churn                           14606 non-null  int64  \n",
      "dtypes: float64(29), int64(7), object(8)\n",
      "memory usage: 4.9+ MB\n"
     ]
    }
   ],
   "source": [
    "df.info()"
   ]
  },
  {
   "cell_type": "code",
   "execution_count": 6,
   "id": "70870e11-382f-4cfe-8a3a-00aa5402e0b0",
   "metadata": {},
   "outputs": [],
   "source": [
    "if 'date' in df.columns:\n",
    "    df['date'] = pd.to_datetime(df['date'])  \n"
   ]
  },
  {
   "cell_type": "code",
   "execution_count": 11,
   "id": "798df80f-20d6-4dd5-bff7-7e1c4780e6fa",
   "metadata": {},
   "outputs": [],
   "source": [
    "\n",
    "df[\"date_activ\"] = pd.to_datetime(df[\"date_activ\"], format='%Y-%m-%d')\n",
    "df[\"date_end\"] = pd.to_datetime(df[\"date_end\"], format='%Y-%m-%d')\n",
    "df[\"date_modif_prod\"] = pd.to_datetime(df[\"date_modif_prod\"], format='%Y-%m-%d')\n",
    "df[\"date_renewal\"] = pd.to_datetime(df[\"date_renewal\"], format='%Y-%m-%d')"
   ]
  },
  {
   "cell_type": "code",
   "execution_count": 13,
   "id": "8c613581-0af7-44cf-9220-b7f5d1df46de",
   "metadata": {},
   "outputs": [
    {
     "name": "stdout",
     "output_type": "stream",
     "text": [
      "Index(['id', 'channel_sales', 'cons_12m', 'cons_gas_12m', 'cons_last_month',\n",
      "       'date_activ', 'date_end', 'date_modif_prod', 'date_renewal',\n",
      "       'forecast_cons_12m', 'forecast_cons_year', 'forecast_discount_energy',\n",
      "       'forecast_meter_rent_12m', 'forecast_price_energy_off_peak',\n",
      "       'forecast_price_energy_peak', 'forecast_price_pow_off_peak', 'has_gas',\n",
      "       'imp_cons', 'margin_gross_pow_ele', 'margin_net_pow_ele', 'nb_prod_act',\n",
      "       'net_margin', 'num_years_antig', 'origin_up', 'pow_max',\n",
      "       'var_year_price_off_peak_var', 'var_year_price_peak_var',\n",
      "       'var_year_price_mid_peak_var', 'var_year_price_off_peak_fix',\n",
      "       'var_year_price_peak_fix', 'var_year_price_mid_peak_fix',\n",
      "       'var_year_price_off_peak', 'var_year_price_peak',\n",
      "       'var_year_price_mid_peak', 'var_6m_price_off_peak_var',\n",
      "       'var_6m_price_peak_var', 'var_6m_price_mid_peak_var',\n",
      "       'var_6m_price_off_peak_fix', 'var_6m_price_peak_fix',\n",
      "       'var_6m_price_mid_peak_fix', 'var_6m_price_off_peak',\n",
      "       'var_6m_price_peak', 'var_6m_price_mid_peak', 'churn'],\n",
      "      dtype='object')\n"
     ]
    }
   ],
   "source": [
    "\n",
    "print(df.columns)\n",
    "\n"
   ]
  },
  {
   "cell_type": "code",
   "execution_count": 19,
   "id": "ccce2932-086d-4b0d-84bb-0b7c1a4fca7d",
   "metadata": {},
   "outputs": [
    {
     "name": "stdout",
     "output_type": "stream",
     "text": [
      "                                 id                     channel_sales  \\\n",
      "0  24011ae4ebbe3035111d65fa7c15bc57  foosdfpfkusacimwkcsosbicdxkicaua   \n",
      "1  d29c2c54acc38ff3c0614d0a653813dd                           MISSING   \n",
      "2  764c75f661154dac3a6c254cd082ea7d  foosdfpfkusacimwkcsosbicdxkicaua   \n",
      "3  bba03439a292a1e166f80264c16191cb  lmkebamcaaclubfxadlmueccxoimlema   \n",
      "4  149d57cf92fc41cf94415803a877cb4b                           MISSING   \n",
      "\n",
      "   cons_12m  cons_gas_12m  cons_last_month date_activ   date_end  \\\n",
      "0         0         54946                0 2013-06-15 2016-06-15   \n",
      "1      4660             0                0 2009-08-21 2016-08-30   \n",
      "2       544             0                0 2010-04-16 2016-04-16   \n",
      "3      1584             0                0 2010-03-30 2016-03-30   \n",
      "4      4425             0              526 2010-01-13 2016-03-07   \n",
      "\n",
      "  date_modif_prod date_renewal  forecast_cons_12m  ...  \\\n",
      "0      2015-11-01   2015-06-23               0.00  ...   \n",
      "1      2009-08-21   2015-08-31             189.95  ...   \n",
      "2      2010-04-16   2015-04-17              47.96  ...   \n",
      "3      2010-03-30   2015-03-31             240.04  ...   \n",
      "4      2010-01-13   2015-03-09             445.75  ...   \n",
      "\n",
      "   var_6m_price_off_peak_var  var_6m_price_peak_var  \\\n",
      "0                   0.000131           4.100838e-05   \n",
      "1                   0.000003           1.217891e-03   \n",
      "2                   0.000004           9.450150e-08   \n",
      "3                   0.000003           0.000000e+00   \n",
      "4                   0.000011           2.896760e-06   \n",
      "\n",
      "   var_6m_price_mid_peak_var  var_6m_price_off_peak_fix  \\\n",
      "0               9.084737e-04                   2.086294   \n",
      "1               0.000000e+00                   0.009482   \n",
      "2               0.000000e+00                   0.000000   \n",
      "3               0.000000e+00                   0.000000   \n",
      "4               4.860000e-10                   0.000000   \n",
      "\n",
      "   var_6m_price_peak_fix  var_6m_price_mid_peak_fix var_6m_price_off_peak  \\\n",
      "0              99.530517                  44.235794              2.086425   \n",
      "1               0.000000                   0.000000              0.009485   \n",
      "2               0.000000                   0.000000              0.000004   \n",
      "3               0.000000                   0.000000              0.000003   \n",
      "4               0.000000                   0.000000              0.000011   \n",
      "\n",
      "   var_6m_price_peak  var_6m_price_mid_peak  churn  \n",
      "0       9.953056e+01           4.423670e+01      1  \n",
      "1       1.217891e-03           0.000000e+00      0  \n",
      "2       9.450150e-08           0.000000e+00      0  \n",
      "3       0.000000e+00           0.000000e+00      0  \n",
      "4       2.896760e-06           4.860000e-10      0  \n",
      "\n",
      "[5 rows x 44 columns]\n"
     ]
    }
   ],
   "source": [
    "\n",
    "if 'feature1' in df.columns and 'feature2' in df.columns:\n",
    "    df['feature_combined'] = df['feature1'] + df['feature2']\n",
    "    df['feature_interaction'] = df['feature1'] * df['feature2']\n",
    "df.to_csv('modified_dataset.csv', index=False)\n",
    "print(df.head())\n"
   ]
  }
 ],
 "metadata": {
  "kernelspec": {
   "display_name": "Python 3 (ipykernel)",
   "language": "python",
   "name": "python3"
  },
  "language_info": {
   "codemirror_mode": {
    "name": "ipython",
    "version": 3
   },
   "file_extension": ".py",
   "mimetype": "text/x-python",
   "name": "python",
   "nbconvert_exporter": "python",
   "pygments_lexer": "ipython3",
   "version": "3.12.3"
  }
 },
 "nbformat": 4,
 "nbformat_minor": 5
}
